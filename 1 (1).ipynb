{
 "cells": [
  {
   "cell_type": "code",
   "execution_count": 3,
   "id": "d37114ad-21ac-4cf0-bc01-cce4a02645b6",
   "metadata": {},
   "outputs": [],
   "source": [
    "l =[1,\"l\"]\n",
    "g=(1,'sj')\n",
    "a=[l,g,2,2.7]"
   ]
  },
  {
   "cell_type": "code",
   "execution_count": null,
   "id": "8678d659-957c-468f-b07a-9b4673b28c26",
   "metadata": {},
   "outputs": [],
   "source": [
    "var1 = ‘ ‘#string\n",
    "var2 = ‘[ DS , ML , Python]’#string\n",
    "var3 = [ ‘DS’ , ’ML’ , ‘Python’ ]#list\n",
    "var4 = 1#int"
   ]
  },
  {
   "cell_type": "code",
   "execution_count": 4,
   "id": "009b3ca3-e90b-416c-aa90-39b36a668865",
   "metadata": {},
   "outputs": [
    {
     "data": {
      "text/plain": [
       "2.0"
      ]
     },
     "execution_count": 4,
     "metadata": {},
     "output_type": "execute_result"
    }
   ],
   "source": [
    "#for division/\n",
    "4/2"
   ]
  },
  {
   "cell_type": "code",
   "execution_count": 8,
   "id": "0e18de2f-fdd2-46e5-a996-6ffb166c852b",
   "metadata": {},
   "outputs": [
    {
     "data": {
      "text/plain": [
       "1"
      ]
     },
     "execution_count": 8,
     "metadata": {},
     "output_type": "execute_result"
    }
   ],
   "source": [
    "5%2#modilus"
   ]
  },
  {
   "cell_type": "code",
   "execution_count": 11,
   "id": "5b2e391c-a2b0-4dce-aefa-61ab9762c0e9",
   "metadata": {},
   "outputs": [
    {
     "data": {
      "text/plain": [
       "2"
      ]
     },
     "execution_count": 11,
     "metadata": {},
     "output_type": "execute_result"
    }
   ],
   "source": [
    "6//3#divison"
   ]
  },
  {
   "cell_type": "code",
   "execution_count": 12,
   "id": "19c0135b-3cf9-40b7-b3c7-c303cb0c0729",
   "metadata": {},
   "outputs": [
    {
     "data": {
      "text/plain": [
       "216"
      ]
     },
     "execution_count": 12,
     "metadata": {},
     "output_type": "execute_result"
    }
   ],
   "source": [
    "6**3#power"
   ]
  },
  {
   "cell_type": "code",
   "execution_count": 14,
   "id": "b3354135-4573-4a9b-935b-9d0306cb00ec",
   "metadata": {},
   "outputs": [
    {
     "name": "stdout",
     "output_type": "stream",
     "text": [
      "1\n",
      "<class 'int'>\n",
      "2\n",
      "<class 'int'>\n",
      "n\n",
      "<class 'str'>\n",
      "f\n",
      "<class 'str'>\n",
      "n\n",
      "<class 'str'>\n",
      "5\n",
      "<class 'int'>\n",
      "6\n",
      "<class 'int'>\n",
      "7\n",
      "<class 'int'>\n",
      "5.2\n",
      "<class 'float'>\n",
      "9\n",
      "<class 'int'>\n"
     ]
    }
   ],
   "source": [
    "l=[1,2,'n','f','n',5,6,7,5.2,9]\n",
    "for i in l:\n",
    "    print(i)\n",
    "    print(type(i))"
   ]
  },
  {
   "cell_type": "code",
   "execution_count": 31,
   "id": "61be6fd1-cc96-4c5c-92fd-5b537f76dd87",
   "metadata": {},
   "outputs": [
    {
     "name": "stdout",
     "output_type": "stream",
     "text": [
      "the no. not divisible by3\"\n",
      "2\n",
      "the no. divisible by3\"\n",
      "3\n",
      "the no. not divisible by3\"\n",
      "4\n",
      "the no. not divisible by3\"\n",
      "5\n",
      "the no. divisible by3\"\n",
      "6\n",
      "the no. not divisible by3\"\n",
      "7\n",
      "the no. not divisible by3\"\n",
      "8\n",
      "the no. divisible by3\"\n",
      "9\n",
      "the no. not divisible by3\"\n",
      "4\n",
      "the no. divisible by3\"\n",
      "3\n",
      "the no. not divisible by3\"\n",
      "4\n",
      "the no. divisible by3\"\n",
      "3\n",
      "the no. not divisible by3\"\n",
      "4\n",
      "the no. divisible by3\"\n",
      "3\n",
      "the no. divisible by3\"\n",
      "6\n",
      "the no. divisible by3\"\n",
      "9\n",
      "the no. divisible by3\"\n",
      "3\n",
      "the no. divisible by3\"\n",
      "69\n",
      "the no. not divisible by3\"\n",
      "7\n",
      "the no. not divisible by3\"\n",
      "5\n",
      "the no. not divisible by3\"\n",
      "8\n",
      "the no. not divisible by3\"\n",
      "2\n",
      "the no. not divisible by3\"\n",
      "8\n",
      "the no. divisible by3\"\n",
      "9\n",
      "the no. not divisible by3\"\n",
      "5\n",
      "the no. not divisible by3\"\n",
      "8\n",
      "the no. not divisible by3\"\n",
      "5\n",
      "the no. not divisible by3\"\n",
      "5\n",
      "the no. not divisible by3\"\n",
      "4\n",
      "the no. divisible by3\"\n",
      "3\n"
     ]
    }
   ],
   "source": [
    "l=[2,3,4,5,6,7,8,9,4,3,4,3,4,3,6,9,3,69,7,5,8,2,8,9,5,8,5,5,4,3]\n",
    "for i in l:\n",
    "   if i%3==0:\n",
    "    print('the no. divisible by3\"')\n",
    "    print(i)\n",
    "   else:\n",
    "        print('the no. not divisible by3\"')\n",
    "        print(i)"
   ]
  },
  {
   "cell_type": "code",
   "execution_count": 23,
   "id": "275bb86e-2a37-4b01-9805-b9d6aa52b931",
   "metadata": {},
   "outputs": [
    {
     "data": {
      "text/plain": [
       "0"
      ]
     },
     "execution_count": 23,
     "metadata": {},
     "output_type": "execute_result"
    }
   ],
   "source": []
  },
  {
   "cell_type": "code",
   "execution_count": 37,
   "id": "457278bd-abc9-462b-b19e-a8f96dc7ab62",
   "metadata": {},
   "outputs": [
    {
     "ename": "SyntaxError",
     "evalue": "invalid syntax (3805351251.py, line 4)",
     "output_type": "error",
     "traceback": [
      "\u001b[0;36m  Cell \u001b[0;32mIn[37], line 4\u001b[0;36m\u001b[0m\n\u001b[0;31m    as ='nishant'\u001b[0m\n\u001b[0m    ^\u001b[0m\n\u001b[0;31mSyntaxError\u001b[0m\u001b[0;31m:\u001b[0m invalid syntax\n"
     ]
    }
   ],
   "source": [
    "l=[1,3,2]\n",
    "l[2]==5#mutable means we can s=change the value\n",
    "print(l)\n",
    "as ='nishant'\n",
    "as[3]==a#immutable means we cannot be change vale\n"
   ]
  },
  {
   "cell_type": "code",
   "execution_count": 38,
   "id": "a2ce3a24-e43b-4695-b1d3-431ad0125da7",
   "metadata": {},
   "outputs": [
    {
     "name": "stdout",
     "output_type": "stream",
     "text": [
      "[1, 2, 3, 4]\n"
     ]
    }
   ],
   "source": [
    "my_list = [1, 2, 3]\n",
    "\n",
    "new_list = my_list\n",
    "\n",
    "new_list.append(4)\n",
    "\n",
    "print(my_list)\n",
    "\n"
   ]
  },
  {
   "cell_type": "code",
   "execution_count": null,
   "id": "3507df06-0ec2-4bd2-84d5-0afef4f88e9c",
   "metadata": {},
   "outputs": [],
   "source": []
  }
 ],
 "metadata": {
  "kernelspec": {
   "display_name": "Python 3 (ipykernel)",
   "language": "python",
   "name": "python3"
  },
  "language_info": {
   "codemirror_mode": {
    "name": "ipython",
    "version": 3
   },
   "file_extension": ".py",
   "mimetype": "text/x-python",
   "name": "python",
   "nbconvert_exporter": "python",
   "pygments_lexer": "ipython3",
   "version": "3.10.8"
  }
 },
 "nbformat": 4,
 "nbformat_minor": 5
}
